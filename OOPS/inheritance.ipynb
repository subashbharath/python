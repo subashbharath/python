{
 "cells": [
  {
   "cell_type": "markdown",
   "metadata": {},
   "source": [
    "# Inheritance\n",
    "\n",
    "Inheritance is a fundamental concept in object-oriented programming (OOP) that allows a new class (called a derived class or subclass) to inherit properties and methods from an existing class (called a base class or superclass). This enables code reuse and promotes a hierarchical organization of classes.\n",
    "\n",
    "\n",
    "- It represents real-world relationships well.\n",
    "- It provides the reusability of a code. We don’t have to write the same code again and again. Also, it allows us to add more features to a class without modifying it.\n",
    "- It is transitive in nature, which means that if class B inherits from another class A, then all the subclasses of B would automatically inherit from class A.\n",
    "\n",
    "\n",
    "#### Types of Inheritance\n",
    "- Single Inheritance: Single-level inheritance enables a derived class to inherit characteristics from a single-parent class.\n",
    "- Multilevel Inheritance: Multi-level inheritance enables a derived class to inherit properties from an immediate parent class which in turn inherits properties from his parent class. \n",
    "- Hierarchical Inheritance: Hierarchical-level inheritance enables more than one derived class to inherit properties from a parent class.\n",
    "- Multiple Inheritance: Multiple-level inheritance enables one derived class to inherit properties from more than one base class."
   ]
  },
  {
   "cell_type": "code",
   "execution_count": 2,
   "metadata": {},
   "outputs": [
    {
     "name": "stdout",
     "output_type": "stream",
     "text": [
      "Buddy\n",
      "Golden Retriever\n",
      "Woof!\n"
     ]
    }
   ],
   "source": [
    "# Single Inheritance\n",
    "# Base class\n",
    "class Animal:\n",
    "    def __init__(self, name):\n",
    "        self.name = name\n",
    "\n",
    "    def speak(self):\n",
    "        return \"Animal sound\"\n",
    "\n",
    "# Derived class\n",
    "class Dog(Animal):\n",
    "    def __init__(self, name, breed):\n",
    "        super().__init__(name)\n",
    "        self.breed = breed\n",
    "\n",
    "    def speak(self):\n",
    "        return \"Woof!\"\n",
    "\n",
    "# Creating an instance of the derived class\n",
    "dog = Dog(\"Buddy\", \"Golden Retriever\")\n",
    "\n",
    "# Accessing the inherited attribute\n",
    "print(dog.name)  # Output: Buddy\n",
    "\n",
    "# Accessing the attribute specific to the derived class\n",
    "print(dog.breed)  # Output: Golden Retriever\n",
    "\n",
    "# Calling the speak method of the derived class\n",
    "print(dog.speak())  # Output: Woof!\n"
   ]
  },
  {
   "cell_type": "markdown",
   "metadata": {},
   "source": [
    "### super()\n",
    "The super() function in Python is used to call methods and access attributes of the superclass (base class) from the subclass (derived class). It is commonly used in the __init__ method of the subclass to call the __init__ method of the superclass and initialize the inherited attributes"
   ]
  },
  {
   "cell_type": "markdown",
   "metadata": {},
   "source": [
    "### Multilevel inheritance\n",
    "Multilevel inheritance is a type of inheritance in object-oriented programming where a derived class (subclass) inherits from another derived class (subclass), which in turn inherits from a base class (superclass). This creates a chain of inheritance, with each class inheriting from the class above it in the hierarchy."
   ]
  },
  {
   "cell_type": "code",
   "execution_count": 3,
   "metadata": {},
   "outputs": [
    {
     "name": "stdout",
     "output_type": "stream",
     "text": [
      "Yip!\n"
     ]
    }
   ],
   "source": [
    "# Base class\n",
    "class Animal:\n",
    "    def speak(self):\n",
    "        return \"Animal sound\"\n",
    "\n",
    "# Derived class 1\n",
    "class Dog(Animal):\n",
    "    def speak(self):\n",
    "        return \"Woof!\"\n",
    "\n",
    "# Derived class 2\n",
    "class Puppy(Dog):\n",
    "    def speak(self):\n",
    "        return \"Yip!\"\n",
    "\n",
    "# Creating an instance of the derived class\n",
    "puppy = Puppy()\n",
    "\n",
    "# Calling the speak method of the derived class\n",
    "print(puppy.speak())  # Output: Yip!\n"
   ]
  },
  {
   "cell_type": "markdown",
   "metadata": {},
   "source": [
    "### Multiple inheritance \n",
    "Multiple inheritance is a feature in object-oriented programming where a class can inherit attributes and methods from more than one parent class. This allows for the creation of complex class hierarchies and promotes code reuse."
   ]
  },
  {
   "cell_type": "code",
   "execution_count": 4,
   "metadata": {},
   "outputs": [
    {
     "name": "stdout",
     "output_type": "stream",
     "text": [
      "Woof!\n",
      "Feeding milk\n"
     ]
    }
   ],
   "source": [
    "# Base class 1\n",
    "class Animal:\n",
    "    def speak(self):\n",
    "        return \"Animal sound\"\n",
    "\n",
    "# Base class 2\n",
    "class Mammal:\n",
    "    def feed_milk(self):\n",
    "        return \"Feeding milk\"\n",
    "\n",
    "# Derived class\n",
    "class Dog(Animal, Mammal):\n",
    "    def speak(self):\n",
    "        return \"Woof!\"\n",
    "\n",
    "# Creating an instance of the derived class\n",
    "dog = Dog()\n",
    "\n",
    "# Calling the speak method of the derived class\n",
    "print(dog.speak())  # Output: Woof!\n",
    "\n",
    "# Calling the feed_milk method of the derived class\n",
    "print(dog.feed_milk())  # Output: Feeding milk\n"
   ]
  },
  {
   "cell_type": "markdown",
   "metadata": {},
   "source": [
    "### Hierarchical inheritance\n",
    "Hierarchical inheritance is a type of inheritance in object-oriented programming where a single base class (superclass) is inherited by multiple derived classes (subclasses). Each derived class shares the same base class but can have its own unique attributes and methods."
   ]
  },
  {
   "cell_type": "code",
   "execution_count": 5,
   "metadata": {},
   "outputs": [
    {
     "name": "stdout",
     "output_type": "stream",
     "text": [
      "Woof!\n",
      "Meow!\n"
     ]
    }
   ],
   "source": [
    "# Base class\n",
    "class Animal:\n",
    "    def speak(self):\n",
    "        return \"Animal sound\"\n",
    "\n",
    "# Derived class 1\n",
    "class Dog(Animal):\n",
    "    def speak(self):\n",
    "        return \"Woof!\"\n",
    "\n",
    "# Derived class 2\n",
    "class Cat(Animal):\n",
    "    def speak(self):\n",
    "        return \"Meow!\"\n",
    "\n",
    "# Creating instances of the derived classes\n",
    "dog = Dog()\n",
    "cat = Cat()\n",
    "\n",
    "# Calling the speak method of the derived classes\n",
    "print(dog.speak())  # Output: Woof!\n",
    "print(cat.speak())  # Output: Meow!\n"
   ]
  },
  {
   "cell_type": "code",
   "execution_count": null,
   "metadata": {},
   "outputs": [],
   "source": []
  },
  {
   "cell_type": "markdown",
   "metadata": {},
   "source": []
  }
 ],
 "metadata": {
  "kernelspec": {
   "display_name": "base",
   "language": "python",
   "name": "python3"
  },
  "language_info": {
   "codemirror_mode": {
    "name": "ipython",
    "version": 3
   },
   "file_extension": ".py",
   "mimetype": "text/x-python",
   "name": "python",
   "nbconvert_exporter": "python",
   "pygments_lexer": "ipython3",
   "version": "3.9.13"
  }
 },
 "nbformat": 4,
 "nbformat_minor": 2
}

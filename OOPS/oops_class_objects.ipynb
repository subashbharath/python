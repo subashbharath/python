{
 "cells": [
  {
   "cell_type": "markdown",
   "metadata": {},
   "source": [
    "# OOPS\n",
    "\n",
    "In Python, object-oriented Programming (OOPs) is a programming paradigm that uses objects and classes in programming. It aims to implement real-world entities like inheritance, polymorphisms, encapsulation, etc. in the programming. The main concept of OOPs is to bind the data and the functions that work on that together as a single unit so that no other part of the code can access this data.\n",
    "\n",
    "\n",
    "OOPs Concepts in Python\n",
    "- Class\n",
    "- Objects\n",
    "- Polymorphism\n",
    "- Encapsulation\n",
    "- Inheritance\n",
    "- Data Abstraction"
   ]
  },
  {
   "cell_type": "markdown",
   "metadata": {},
   "source": [
    "### Python Class \n",
    "A class is a collection of objects. A class contains the blueprints or the prototype from which the objects are being created. It is a logical entity that contains some attributes and methods. \n",
    "\n",
    "\n",
    "- Classes are created by keyword class.\n",
    "- Attributes are the variables that belong to a class.\n",
    "- Attributes are always public and can be accessed using the dot (.) operator. Eg.: Myclass.Myattribute\n",
    "\n",
    "\n",
    "class ClassName:\n",
    "\n",
    "   **Statement-1**\n",
    "\n",
    "   .\n",
    "\n",
    "   .\n",
    "\n",
    "   .\n",
    "   \n",
    "   **Statement-N**"
   ]
  },
  {
   "cell_type": "code",
   "execution_count": 1,
   "metadata": {},
   "outputs": [
    {
     "name": "stdout",
     "output_type": "stream",
     "text": [
      "Alice\n",
      "30\n"
     ]
    }
   ],
   "source": [
    "# example : simple class program\n",
    "class Person:\n",
    "    def __init__(self, name, age):\n",
    "        self.name = name\n",
    "        self.age = age\n",
    "\n",
    "# Example usage of the class\n",
    "person1 = Person(\"Alice\", 30)\n",
    "person2 = Person(\"Bob\", 25)\n",
    "\n",
    "print(person1.name)  # Output: Alice\n",
    "print(person1.age)   # Output: 30"
   ]
  },
  {
   "cell_type": "markdown",
   "metadata": {},
   "source": [
    "- Person is a simple class with a constructor (__init__ method) that takes two parameters: name and age.\n",
    "- The constructor initializes two instance variables: name and age, using the values passed as arguments.\n",
    "- Two instances of the Person class (person1 and person2) are created with different values for name and age.\n",
    "- The name and age attributes of each instance can be accessed using dot notation (instance_name.attribute_name"
   ]
  },
  {
   "cell_type": "markdown",
   "metadata": {},
   "source": [
    "The __init__ method is similar to constructors in C++ and Java. It is run as soon as an object of a class is instantiated. The method is useful to do any initialization you want to do with your object. Now let us define a class and create some objects using the self and __init__ method."
   ]
  },
  {
   "cell_type": "markdown",
   "metadata": {},
   "source": [
    "### objects\n",
    "\n",
    "An object in Python is an instance of a class. It is a collection of data (variables) and methods (functions) that act on that data. Objects are created from classes, which serve as blueprints for creating objects"
   ]
  },
  {
   "cell_type": "code",
   "execution_count": 1,
   "metadata": {},
   "outputs": [
    {
     "name": "stdout",
     "output_type": "stream",
     "text": [
      "Alice\n",
      "30\n",
      "Hello, my name is Alice and I am 30 years old.\n"
     ]
    }
   ],
   "source": [
    "#example\n",
    "class Person:\n",
    "    def __init__(self, name, age):\n",
    "        self.name = name\n",
    "        self.age = age\n",
    "\n",
    "    def greet(self):\n",
    "        print(f\"Hello, my name is {self.name} and I am {self.age} years old.\")\n",
    "\n",
    "\n",
    "# Creating an object (instance) of the Person class\n",
    "person1 = Person(\"Alice\", 30)\n",
    "\n",
    "# Accessing object attributes\n",
    "print(person1.name)  # Output: Alice\n",
    "print(person1.age)   # Output: 30\n",
    "\n",
    "# Calling object methods\n",
    "person1.greet()  # Output: Hello, my name is Alice and I am 30 years old.\n"
   ]
  },
  {
   "cell_type": "code",
   "execution_count": 3,
   "metadata": {},
   "outputs": [
    {
     "name": "stdout",
     "output_type": "stream",
     "text": [
      "John is 20 years old\n",
      "Jack is 34 years old\n",
      "2\n",
      "4\n"
     ]
    }
   ],
   "source": [
    "#example - class with methods\n",
    "class Person:\n",
    "    species  = 'Homo sapiens'  #class attributes\n",
    "    count = 0\n",
    "\n",
    "    def __init__(self,name,age):\n",
    "        self.name = name\n",
    "        self.age = age\n",
    "        Person.count+=1\n",
    "\n",
    "    def display(self):\n",
    "         print(f'{self.name} is {self.age} years old')\n",
    "         \n",
    "p1 = Person('John',20)\n",
    "p2 = Person('Jack',34)\n",
    "\n",
    "p1.display()\n",
    "p2.display()\n",
    "\n",
    "print(Person.count)\n",
    "p3=Person('Jill', 40)\n",
    "p4=Person('Jane', 35)\n",
    "print(Person.count) \n"
   ]
  },
  {
   "cell_type": "code",
   "execution_count": 5,
   "metadata": {},
   "outputs": [
    {
     "name": "stdout",
     "output_type": "stream",
     "text": [
      "10\n",
      "5\n",
      "5\n"
     ]
    }
   ],
   "source": [
    "#example- class differnt types of methods\n",
    "\n",
    "class MyClass:\n",
    "    a = 5\n",
    "\n",
    "    def __init__(self, x):\n",
    "        self.x = x\n",
    "\n",
    "    def method1(self):\n",
    "        print(self.x)\n",
    "\n",
    "    @classmethod\n",
    "    def method2(cls):\n",
    "        print(cls.a)\n",
    "\n",
    "    @staticmethod\n",
    "    def method3(m, n):\n",
    "        return m + n\n",
    "\n",
    "\n",
    "# Creating an instance of MyClass\n",
    "my_instance = MyClass(10)\n",
    "\n",
    "# Calling method1\n",
    "my_instance.method1()  # Output: 10\n",
    "\n",
    "# Calling method2\n",
    "MyClass.method2()  # Output: 5\n",
    "\n",
    "# Calling method3\n",
    "result = MyClass.method3(2, 3)\n",
    "print(result)  # Output: 5\n"
   ]
  },
  {
   "cell_type": "markdown",
   "metadata": {},
   "source": [
    "- method1 is an instance method, which means it operates on an instance of the class. It prints the value of x for the instance.\n",
    "- method2 is a class method, which means it operates on the class itself. It prints the value of a for the class.\n",
    "- method3 is a static method, which means it doesn't require an instance or class to be called. It simply returns the sum of two numbers m and n."
   ]
  },
  {
   "cell_type": "markdown",
   "metadata": {},
   "source": []
  }
 ],
 "metadata": {
  "kernelspec": {
   "display_name": "base",
   "language": "python",
   "name": "python3"
  },
  "language_info": {
   "codemirror_mode": {
    "name": "ipython",
    "version": 3
   },
   "file_extension": ".py",
   "mimetype": "text/x-python",
   "name": "python",
   "nbconvert_exporter": "python",
   "pygments_lexer": "ipython3",
   "version": "3.9.13"
  }
 },
 "nbformat": 4,
 "nbformat_minor": 2
}

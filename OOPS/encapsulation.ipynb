{
 "cells": [
  {
   "cell_type": "markdown",
   "metadata": {},
   "source": [
    "# Encapsulation\n",
    "\n",
    "Encapsulation is a fundamental concept in object-oriented programming (OOP) that refers to the bundling of data (attributes) and methods (functions) that operate on the data into a single unit, known as a class. Encapsulation allows for the hiding of the internal state of an object and only exposing the necessary parts to the outside world. This helps in achieving data abstraction and information hiding, which are key principles of OOP.\n",
    "\n",
    "\n",
    "In Python, encapsulation is achieved through the use of access modifiers, which are keywords that control the visibility of attributes and methods within a class. There are three types of access modifiers in Python:"
   ]
  },
  {
   "cell_type": "markdown",
   "metadata": {},
   "source": [
    "'''Public:\n",
    "\n",
    "Attributes and methods that are not prefixed with an underscore (_) are considered public and can be accessed from outside the class.''''"
   ]
  },
  {
   "cell_type": "code",
   "execution_count": 2,
   "metadata": {},
   "outputs": [
    {
     "name": "stdout",
     "output_type": "stream",
     "text": [
      "10\n",
      "This is a public method\n"
     ]
    }
   ],
   "source": [
    "#Public:\n",
    "\n",
    "'''Attributes and methods that are not prefixed with an underscore (_) are considered \n",
    "public and can be accessed from outside the class.'''\n",
    "\n",
    "\n",
    "class MyClass:\n",
    "    def __init__(self):\n",
    "        self.public_attribute = 10\n",
    "\n",
    "    def public_method(self):\n",
    "        return \"This is a public method\"\n",
    "\n",
    "obj = MyClass()\n",
    "print(obj.public_attribute)  # Output: 10\n",
    "print(obj.public_method())   # Output: This is a public method\n"
   ]
  },
  {
   "cell_type": "code",
   "execution_count": 4,
   "metadata": {},
   "outputs": [
    {
     "name": "stdout",
     "output_type": "stream",
     "text": [
      "20\n",
      "This is a protected method\n"
     ]
    }
   ],
   "source": [
    "# Protected:\n",
    "\n",
    "'''Attributes and methods that are prefixed with a single underscore (_) are considered \n",
    "protected and can be accessed within the class and its subclasses.'''\n",
    "\n",
    "class MyClass:\n",
    "    def __init__(self):\n",
    "        self._protected_attribute = 20\n",
    "\n",
    "    def _protected_method(self):\n",
    "        return \"This is a protected method\"\n",
    "\n",
    "class MySubclass(MyClass):\n",
    "    def __init__(self):\n",
    "        super().__init__()\n",
    "\n",
    "    def get_protected_attribute(self):\n",
    "        return self._protected_attribute\n",
    "\n",
    "    def call_protected_method(self):\n",
    "        return self._protected_method()\n",
    "\n",
    "obj = MySubclass()\n",
    "print(obj.get_protected_attribute())  # Output: 20\n",
    "print(obj.call_protected_method())    # Output: This is a protected method\n",
    "\n"
   ]
  },
  {
   "cell_type": "code",
   "execution_count": 5,
   "metadata": {},
   "outputs": [
    {
     "name": "stdout",
     "output_type": "stream",
     "text": [
      "30\n",
      "This is a private method\n"
     ]
    }
   ],
   "source": [
    "# Private: \n",
    "\n",
    "'''Attributes and methods that are prefixed with double underscores (__) are considered \n",
    "private and can only be accessed within the class itself.'''\n",
    "\n",
    "\n",
    "class MyClass:\n",
    "    def __init__(self):\n",
    "        self.__private_attribute = 30\n",
    "\n",
    "    def __private_method(self):\n",
    "        return \"This is a private method\"\n",
    "\n",
    "    def get_private_attribute(self):\n",
    "        return self.__private_attribute\n",
    "\n",
    "    def call_private_method(self):\n",
    "        return self.__private_method()\n",
    "\n",
    "obj = MyClass()\n",
    "print(obj.get_private_attribute())  # Output: 30\n",
    "print(obj.call_private_method())    # Output: This is a private method\n"
   ]
  },
  {
   "cell_type": "markdown",
   "metadata": {},
   "source": [
    "Python does not have true private members. The double underscore prefix (__) is a convention used to indicate that an attribute or method is intended to be private, but it can still be accessed outside the call using name mangling"
   ]
  },
  {
   "cell_type": "code",
   "execution_count": 6,
   "metadata": {},
   "outputs": [
    {
     "name": "stdout",
     "output_type": "stream",
     "text": [
      "30\n"
     ]
    }
   ],
   "source": [
    "#name mangling\n",
    "\n",
    "class MyClass:\n",
    "    def __init__(self):\n",
    "        self.__private_attribute = 30\n",
    "\n",
    "    def get_private_attribute(self):\n",
    "        return self.__private_attribute\n",
    "\n",
    "obj = MyClass()\n",
    "print(obj._MyClass__private_attribute)  # Output: 30\n"
   ]
  },
  {
   "cell_type": "code",
   "execution_count": null,
   "metadata": {},
   "outputs": [],
   "source": []
  }
 ],
 "metadata": {
  "kernelspec": {
   "display_name": "base",
   "language": "python",
   "name": "python3"
  },
  "language_info": {
   "codemirror_mode": {
    "name": "ipython",
    "version": 3
   },
   "file_extension": ".py",
   "mimetype": "text/x-python",
   "name": "python",
   "nbconvert_exporter": "python",
   "pygments_lexer": "ipython3",
   "version": "3.9.13"
  }
 },
 "nbformat": 4,
 "nbformat_minor": 2
}

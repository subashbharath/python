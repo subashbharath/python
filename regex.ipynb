{
 "cells": [
  {
   "cell_type": "markdown",
   "metadata": {},
   "source": [
    "# Python RegEx\n",
    "A Regular Expression (RegEx) is a sequence of characters that defines a search pattern."
   ]
  },
  {
   "cell_type": "code",
   "execution_count": 2,
   "metadata": {},
   "outputs": [
    {
     "name": "stdout",
     "output_type": "stream",
     "text": [
      "Search successful.\n"
     ]
    }
   ],
   "source": [
    "#example\n",
    "\n",
    "#five letter starts with 'a' and endwith 's'\n",
    "\n",
    "import re\n",
    "\n",
    "pattern = '^a...s$'\n",
    "test_string = 'abyss'\n",
    "result = re.match(pattern, test_string)\n",
    "\n",
    "if result:\n",
    "  print(\"Search successful.\")\n",
    "else:\n",
    "  print(\"Search unsuccessful.\")\t\n"
   ]
  },
  {
   "cell_type": "markdown",
   "metadata": {},
   "source": [
    "Specify Pattern Using RegEx\n",
    "\n",
    "To specify regular expressions, metacharacters are used. In the above example, ^ and $ are metacharacters.\n",
    "\n",
    "Metacharacters are characters that are interpreted in a special way by a RegEx engine. Here's a list of metacharacters:\n",
    "\n",
    "[] . ^ $ * + ? {} () \\ |"
   ]
  },
  {
   "cell_type": "code",
   "execution_count": 25,
   "metadata": {},
   "outputs": [
    {
     "name": "stdout",
     "output_type": "stream",
     "text": [
      "['cat', 'sat', 'mat']\n",
      "['The']\n",
      "['dog']\n"
     ]
    }
   ],
   "source": [
    "#[] - Square brackets\n",
    "\n",
    "'Square brackets specifies a set of characters you wish to match.'\n",
    "re.match('[t]','testing test string')\n",
    "\n",
    "#Period\n",
    "\"A period matches any single character (except newline '\\n')\"\n",
    "pattern = r'.at'\n",
    "text = 'The cat sat on the mat'\n",
    "matches = re.findall(pattern, text)\n",
    "print(matches)\n",
    "\n",
    "#Caret\n",
    "'The caret symbol ^ is used to check if a string starts with a certain character.'\n",
    "pattern = r'^The'\n",
    "text = 'The quick brown fox jumps over the lazy dog'\n",
    "matches = re.findall(pattern, text)\n",
    "print(matches) \n",
    "\n",
    "#Dollar\n",
    "\"The dollar symbol $ is used to check if a string ends with a certain character.\"\n",
    "pattern = r'dog$'\n",
    "text = 'The quick brown fox jumps over the lazy dog'\n",
    "matches = re.findall(pattern, text)\n",
    "print(matches) \n",
    "\n",
    "#Star\n",
    "\"The star symbol * matches zero or more occurrences of the pattern left to it.\"\n",
    "\n",
    "\n",
    "#Plus\n",
    "\"The plus symbol + matches one or more occurrences of the pattern left to it.\"\n",
    "\n",
    "\n",
    "# Question Mark\n",
    "\"The question mark symbol ? matches zero or one occurrence of the pattern left to it.\"\n",
    "\n",
    "\n",
    "#Braces\n",
    "\"Consider this code: {n,m}. This means at least n, and at most m repetitions of the pattern left to it.\"\n",
    "\n",
    "\n",
    "#Alternation\n",
    "\"Vertical bar | is used for alternation (or operator)\"\n",
    "\n",
    "\n",
    "#Group\n",
    "\"Parentheses () is used to group sub-patterns.\"\n",
    "\n",
    "\n",
    "#Backslash\n",
    "\"Backlash \\ is used to escape various characters including all metacharacters.\"\n"
   ]
  },
  {
   "cell_type": "markdown",
   "metadata": {},
   "source": []
  },
  {
   "cell_type": "markdown",
   "metadata": {},
   "source": []
  }
 ],
 "metadata": {
  "kernelspec": {
   "display_name": "base",
   "language": "python",
   "name": "python3"
  },
  "language_info": {
   "codemirror_mode": {
    "name": "ipython",
    "version": 3
   },
   "file_extension": ".py",
   "mimetype": "text/x-python",
   "name": "python",
   "nbconvert_exporter": "python",
   "pygments_lexer": "ipython3",
   "version": "3.9.13"
  }
 },
 "nbformat": 4,
 "nbformat_minor": 2
}

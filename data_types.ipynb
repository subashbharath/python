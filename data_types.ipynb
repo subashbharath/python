{
 "cells": [
  {
   "cell_type": "markdown",
   "metadata": {},
   "source": [
    "# Data Types"
   ]
  },
  {
   "cell_type": "markdown",
   "metadata": {},
   "source": [
    "Variables can store data of different types, and different types can do different things.\n",
    "\n",
    "Python has the following data types built-in by default, in these categories:\n",
    "\n",
    "1. Text Type:\tstr\n",
    "2. Numeric Types:\tint, float, complex\n",
    "3. Sequence Types:\tlist, tuple, range\n",
    "4. Mapping Type:\tdict\n",
    "5. Set Types:\tset, frozenset\n",
    "6. Boolean Type:\tbool\n",
    "7. Binary Types:\tbytes, bytearray, memoryview\n",
    "8. None Type:\tNoneType"
   ]
  },
  {
   "cell_type": "code",
   "execution_count": 1,
   "metadata": {},
   "outputs": [
    {
     "data": {
      "text/plain": [
       "int"
      ]
     },
     "execution_count": 1,
     "metadata": {},
     "output_type": "execute_result"
    }
   ],
   "source": [
    "#get the data type of any object by using the type() function\n",
    "a = 5\n",
    "type(a)"
   ]
  },
  {
   "cell_type": "markdown",
   "metadata": {},
   "source": [
    "### bool\n",
    "This data type represents Boolean values, which can be either True or False. Booleans are often used in conditional statements and logical operations\n",
    "\n",
    "### None\n",
    "This data type has only one value, None. It is often used to represent the absence of a value or a placeholde"
   ]
  },
  {
   "cell_type": "markdown",
   "metadata": {},
   "source": [
    "### range\n",
    "The range data type in Python represents an immutable sequence of numbers. It is commonly used for looping a specific number of times in a for loop or for generating a sequence of numbers"
   ]
  },
  {
   "cell_type": "markdown",
   "metadata": {},
   "source": [
    "### byte\n",
    "The bytes data type in Python represents a sequence of bytes. It is immutable, meaning its contents cannot be changed after it is created. bytes objects are often used to represent binary data, such as images or network packets. For example:"
   ]
  },
  {
   "cell_type": "markdown",
   "metadata": {},
   "source": [
    "### bytearray\n",
    "The bytearray data type in Python is similar to bytes, but it is mutable, meaning its contents can be changed after it is created. bytearray objects are often used when you need to modify binary data"
   ]
  },
  {
   "cell_type": "markdown",
   "metadata": {},
   "source": [
    " ### memoryview\n",
    " \n",
    " The memoryview data type in Python provides a way to access the memory of an object as a sequence of bytes. It is often used in conjunction with bytes or bytearray objects to perform low-level operations on binary data. For example"
   ]
  },
  {
   "cell_type": "code",
   "execution_count": 29,
   "metadata": {},
   "outputs": [
    {
     "name": "stdout",
     "output_type": "stream",
     "text": [
      "0\n",
      "1\n",
      "2\n",
      "3\n",
      "4\n",
      "5\n",
      "b'Hello'\n",
      "bytearray(b'A\\x00\\x00\\x00\\x00')\n",
      "0\n"
     ]
    }
   ],
   "source": [
    "#Example\n",
    "x_bool = True\t#bool\t#True or False\n",
    "x_none = None\t#NoneType\n",
    "\n",
    "x_range = range(6)\n",
    "for i in x_range:\n",
    "    print(i)  # Output: 0, 1, 2, 3, 4, 5\n",
    "\n",
    "x_byte = b\"Hello\"\n",
    "print(x_byte)  # Output: b'Hello'\n",
    "\n",
    "\n",
    "x_bytearray = bytearray(5)\n",
    "x_bytearray[0] = 65\n",
    "print(x_bytearray)  # Output: bytearray(b'A\\x00\\x00\\x00\\x00')\n",
    "\n",
    "\n",
    "x_memoryview = memoryview(bytes(5))\n",
    "print(x_memoryview[0])  # Output: 0\n",
    "\n"
   ]
  },
  {
   "cell_type": "markdown",
   "metadata": {},
   "source": [
    "### Python Numbers\n",
    "There are three numeric types in Python:\n",
    "\n",
    "1. int\n",
    "2. float\n",
    "3. complex"
   ]
  },
  {
   "cell_type": "code",
   "execution_count": 7,
   "metadata": {},
   "outputs": [
    {
     "name": "stdout",
     "output_type": "stream",
     "text": [
      "1.0\n",
      "2\n",
      "(1+0j)\n"
     ]
    }
   ],
   "source": [
    "x_int = 20\t#int\n",
    "x_float = 20.5\t#float\t\n",
    "x_complex = 1j\t#complex\n",
    "\n",
    "\n",
    "#Type Conversion\n",
    "#You can convert from one type to another with the int(), float(), and complex() methods:\n",
    "\n",
    "x = 1    # int\n",
    "y = 2.8  # float\n",
    "z = 1j   # complex\n",
    "\n",
    "#convert from int to float:\n",
    "a = float(x)\n",
    "\n",
    "#convert from float to int:\n",
    "b = int(y)\n",
    "\n",
    "#convert from int to complex:\n",
    "c = complex(x)\n",
    "\n",
    "print(a)\n",
    "print(b)\n",
    "print(c)"
   ]
  },
  {
   "cell_type": "markdown",
   "metadata": {},
   "source": [
    "### python string\n",
    "The str data type in Python represents a sequence of characters. It is used to store and manipulate text data. Strings in Python are immutable, meaning that once a string is created, its contents cannot be changed."
   ]
  },
  {
   "cell_type": "code",
   "execution_count": 1,
   "metadata": {},
   "outputs": [
    {
     "name": "stdout",
     "output_type": "stream",
     "text": [
      "H\n",
      "W\n",
      "ello\n",
      "Hello\n",
      "World!\n",
      "12\n",
      "['__add__', '__class__', '__contains__', '__delattr__', '__dir__', '__doc__', '__eq__', '__format__', '__ge__', '__getattribute__', '__getitem__', '__getnewargs__', '__gt__', '__hash__', '__init__', '__init_subclass__', '__iter__', '__le__', '__len__', '__lt__', '__mod__', '__mul__', '__ne__', '__new__', '__reduce__', '__reduce_ex__', '__repr__', '__rmod__', '__rmul__', '__setattr__', '__sizeof__', '__str__', '__subclasshook__', 'capitalize', 'casefold', 'center', 'count', 'encode', 'endswith', 'expandtabs', 'find', 'format', 'format_map', 'index', 'isalnum', 'isalpha', 'isascii', 'isdecimal', 'isdigit', 'isidentifier', 'islower', 'isnumeric', 'isprintable', 'isspace', 'istitle', 'isupper', 'join', 'ljust', 'lower', 'lstrip', 'maketrans', 'partition', 'removeprefix', 'removesuffix', 'replace', 'rfind', 'rindex', 'rjust', 'rpartition', 'rsplit', 'rstrip', 'split', 'splitlines', 'startswith', 'strip', 'swapcase', 'title', 'translate', 'upper', 'zfill']\n",
      "30\n"
     ]
    }
   ],
   "source": [
    "#Strings in python are surrounded by either single quotation marks, or double quotation marks or triple quotes (multi line string)\n",
    "my_string = 'Hello, World!'\n",
    "my_string2 = \"Hello, World!\"\n",
    "my_string3 = '''Hello, World! is the\n",
    "                multi-line string'''\n",
    "\n",
    "# strings in Python are arrays of bytes representing unicode characters.\n",
    "my_string = 'Hello, World!'\n",
    "print(my_string[0])  # Output: H\n",
    "print(my_string[7])  # Output: W\n",
    "print(my_string[1:5])  # Output: ello\n",
    "\n",
    "#Escape Characters: Special characters in strings can be represented using escape sequences, such as \\n for a newline and \\t for a tab. For example:\n",
    "my_string = 'Hello\\nWorld!'\n",
    "print(my_string)\n",
    "\n",
    "#find the length of a string using the len() function. For example:\n",
    "print(len(my_string))\n",
    "\n",
    "\n",
    "#string inbuilt functions\n",
    "print(dir(my_string))\n",
    "\n",
    "\n",
    "#eval() is a built-in Python function that takes a string and evaluates it as a Python expression.\n",
    "#It can be used to execute dynamically generated Python code or to evaluate mathematical expressions.\n",
    "x = 10\n",
    "y = 20\n",
    "expression = \"x + y\"\n",
    "result = eval(expression)\n",
    "print(result)  # Output: 30"
   ]
  },
  {
   "cell_type": "markdown",
   "metadata": {},
   "source": [
    "### Set\n",
    "\n",
    "set and a frozenset are both data types used to store collections of unique elements.\n",
    "\n",
    "set is mutable and used for collections of unique elements, while a frozenset is immutable and used for collections of unique elements that do not change\n",
    "\n",
    "unorder list, there is no defined order for elements, element may change \n"
   ]
  },
  {
   "cell_type": "code",
   "execution_count": 18,
   "metadata": {},
   "outputs": [
    {
     "name": "stdout",
     "output_type": "stream",
     "text": [
      "['__and__', '__class__', '__class_getitem__', '__contains__', '__delattr__', '__dir__', '__doc__', '__eq__', '__format__', '__ge__', '__getattribute__', '__gt__', '__hash__', '__iand__', '__init__', '__init_subclass__', '__ior__', '__isub__', '__iter__', '__ixor__', '__le__', '__len__', '__lt__', '__ne__', '__new__', '__or__', '__rand__', '__reduce__', '__reduce_ex__', '__repr__', '__ror__', '__rsub__', '__rxor__', '__setattr__', '__sizeof__', '__str__', '__sub__', '__subclasshook__', '__xor__', 'add', 'clear', 'copy', 'difference', 'difference_update', 'discard', 'intersection', 'intersection_update', 'isdisjoint', 'issubset', 'issuperset', 'pop', 'remove', 'symmetric_difference', 'symmetric_difference_update', 'union', 'update']\n"
     ]
    }
   ],
   "source": [
    "x_set = {\"apple\", \"banana\", \"cherry\"}\t#set\t\n",
    "x_frozenset = frozenset({\"apple\", \"banana\", \"cherry\"})\t#frozenset\n",
    "\n",
    "#set inbuilt functions\n",
    "print(dir(x_set))"
   ]
  },
  {
   "cell_type": "markdown",
   "metadata": {},
   "source": [
    "### List and Tuple\n",
    "In Python, list and tuple are both data types used to store collections of elements.\n",
    "\n",
    "list is mutable and used for collections of elements that may change, while a tuple is immutable and used for collections of elements that do not change.\n",
    "\n",
    "both allows duplicates, and the items have a defined order, and that order will not change."
   ]
  },
  {
   "cell_type": "code",
   "execution_count": 23,
   "metadata": {},
   "outputs": [
    {
     "name": "stdout",
     "output_type": "stream",
     "text": [
      "list ['__add__', '__class__', '__class_getitem__', '__contains__', '__delattr__', '__delitem__', '__dir__', '__doc__', '__eq__', '__format__', '__ge__', '__getattribute__', '__getitem__', '__gt__', '__hash__', '__iadd__', '__imul__', '__init__', '__init_subclass__', '__iter__', '__le__', '__len__', '__lt__', '__mul__', '__ne__', '__new__', '__reduce__', '__reduce_ex__', '__repr__', '__reversed__', '__rmul__', '__setattr__', '__setitem__', '__sizeof__', '__str__', '__subclasshook__', 'append', 'clear', 'copy', 'count', 'extend', 'index', 'insert', 'pop', 'remove', 'reverse', 'sort']\n",
      "tuple ['__add__', '__class__', '__class_getitem__', '__contains__', '__delattr__', '__dir__', '__doc__', '__eq__', '__format__', '__ge__', '__getattribute__', '__getitem__', '__getnewargs__', '__gt__', '__hash__', '__init__', '__init_subclass__', '__iter__', '__le__', '__len__', '__lt__', '__mul__', '__ne__', '__new__', '__reduce__', '__reduce_ex__', '__repr__', '__rmul__', '__setattr__', '__sizeof__', '__str__', '__subclasshook__', 'count', 'index']\n"
     ]
    }
   ],
   "source": [
    "x_list = [\"apple\", \"banana\", \"cherry\"]\t#list\t\n",
    "x_tuple = (\"apple\", \"banana\", \"cherry\")\t#tuple\t\n",
    "\n",
    "\n",
    "#list inbuilt methods\n",
    "print(\"list\",dir(x_list))\n",
    "\n",
    "#tuple inbuilt functions\n",
    "print(\"tuple\",(dir(x_tuple)))\n"
   ]
  },
  {
   "cell_type": "markdown",
   "metadata": {},
   "source": [
    "### dict\n",
    "Dictionaries are used to store data values in key:value pairs.\n",
    "\n",
    "A dictionary is a collection which is ordered*, changeable and do not allow duplicates."
   ]
  },
  {
   "cell_type": "code",
   "execution_count": 26,
   "metadata": {},
   "outputs": [
    {
     "name": "stdout",
     "output_type": "stream",
     "text": [
      "['__class__', '__class_getitem__', '__contains__', '__delattr__', '__delitem__', '__dir__', '__doc__', '__eq__', '__format__', '__ge__', '__getattribute__', '__getitem__', '__gt__', '__hash__', '__init__', '__init_subclass__', '__ior__', '__iter__', '__le__', '__len__', '__lt__', '__ne__', '__new__', '__or__', '__reduce__', '__reduce_ex__', '__repr__', '__reversed__', '__ror__', '__setattr__', '__setitem__', '__sizeof__', '__str__', '__subclasshook__', 'clear', 'copy', 'fromkeys', 'get', 'items', 'keys', 'pop', 'popitem', 'setdefault', 'update', 'values']\n"
     ]
    }
   ],
   "source": [
    "#dict\n",
    "x_dict = {\"name\" : \"John\", \"age\" : 36}\n",
    "\n",
    "#dict built in methods\n",
    "print(dir(x_dict))\n"
   ]
  }
 ],
 "metadata": {
  "kernelspec": {
   "display_name": "base",
   "language": "python",
   "name": "python3"
  },
  "language_info": {
   "codemirror_mode": {
    "name": "ipython",
    "version": 3
   },
   "file_extension": ".py",
   "mimetype": "text/x-python",
   "name": "python",
   "nbconvert_exporter": "python",
   "pygments_lexer": "ipython3",
   "version": "3.9.13"
  }
 },
 "nbformat": 4,
 "nbformat_minor": 2
}

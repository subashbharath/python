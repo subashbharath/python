{
 "cells": [
  {
   "cell_type": "markdown",
   "metadata": {},
   "source": [
    "# Python basics"
   ]
  },
  {
   "cell_type": "markdown",
   "metadata": {},
   "source": [
    "### Syntax\n",
    "\n",
    "The Python syntax defines a set of rules that are used to create a Python Program. \n",
    "\n",
    "1. Indentation\n",
    "2. Comments\n",
    "3. Identifiers\n",
    "4. Varaibles\n",
    "5. Object Identity\n",
    "6. Keywords"
   ]
  },
  {
   "cell_type": "markdown",
   "metadata": {},
   "source": [
    "Python Indentation\n",
    "Indentation refers to the spaces at the beginning of a code line.\n",
    "\n",
    "Where in other programming languages the indentation in code is for readability only, the indentation in Python is very important.\n",
    "\n",
    "Python uses indentation to indicate a block of code."
   ]
  },
  {
   "cell_type": "code",
   "execution_count": 1,
   "metadata": {},
   "outputs": [
    {
     "name": "stdout",
     "output_type": "stream",
     "text": [
      "Five is greater than two!\n",
      "Five is greater than two!\n"
     ]
    }
   ],
   "source": [
    "if 5 > 2:\n",
    " print(\"Five is greater than two!\") \n",
    "if 5 > 2:\n",
    "        print(\"Five is greater than two!\") "
   ]
  },
  {
   "cell_type": "markdown",
   "metadata": {},
   "source": [
    "### Python Comments\n",
    "\n",
    "Comments starts with a #, and Python will ignore them\n",
    "\n",
    "1. Comments can be used to explain Python code.\n",
    "\n",
    "2. Comments can be used to make the code more readable.\n",
    "\n",
    "3. Comments can be used to prevent execution when testing code."
   ]
  },
  {
   "cell_type": "code",
   "execution_count": 3,
   "metadata": {},
   "outputs": [
    {
     "name": "stdout",
     "output_type": "stream",
     "text": [
      "Hello, World!\n",
      "Hello, World!\n",
      "Hello, World!\n"
     ]
    }
   ],
   "source": [
    "#This is a comment\n",
    "print(\"Hello, World!\")\n",
    "\n",
    "print(\"Hello, World!\") #This is a INLINE comment\n",
    "\n",
    "#mutli-line comments\n",
    "\n",
    "\"\"\"\n",
    "This is a comment\n",
    "written in\n",
    "more than just one line\n",
    "\"\"\"\n",
    "print(\"Hello, World!\")"
   ]
  },
  {
   "cell_type": "markdown",
   "metadata": {},
   "source": [
    "### Python Identifiers\n",
    "A Python identifier is a name used to identify a variable, function, class, module or other object. An identifier starts with a letter A to Z or a to z or an underscore (_) followed by zero or more letters, underscores and digits (0 to 9).\n",
    "\n",
    "Python does not allow punctuation characters such as @, $, and % within identifiers."
   ]
  },
  {
   "cell_type": "markdown",
   "metadata": {},
   "source": [
    "### Python Variables\n",
    "Variables are containers for storing data values.\n",
    "A Python variable is a symbolic name that is a reference or pointer to an object. Once an object is assigned to a variable, you can refer to the object by that name. But the data itself is still contained within the object.(https://realpython.com/python-variables/#object-references)\n",
    "\n",
    "\n",
    "#### Creating Variables\n",
    "Python has no command for declaring a variable.A variable is created the moment you first assign a value to it.\n",
    "\n",
    "#### Variable Names\n",
    "1. A variable can have a short name (like x and y) or a more descriptive name (age, carname, total_volume). Rules for Python variables:\n",
    "2. A variable name must start with a letter or the underscore character\n",
    "3. A variable name cannot start with a number\n",
    "4. A variable name can only contain alpha-numeric characters and underscores (A-z, 0-9, and _ )\n",
    "5. Variable names are case-sensitive (age, Age and AGE are three different variables)\n",
    "6. A variable name cannot be any of the Python keywords."
   ]
  },
  {
   "cell_type": "code",
   "execution_count": 10,
   "metadata": {},
   "outputs": [
    {
     "name": "stdout",
     "output_type": "stream",
     "text": [
      "4 test\n",
      "3 3 3.0\n",
      "Orange\n",
      "Banana\n",
      "Cherry\n",
      "Orange\n",
      "Orange\n",
      "Orange\n",
      "apple\n",
      "banana\n",
      "cherry\n"
     ]
    }
   ],
   "source": [
    "#Variables do not need to be declared with any particular type, and can even change type after they have been set.\n",
    "x = 4       # x is of type int\n",
    "y = \"test\" # x is now of type str\n",
    "print(x,y)\n",
    "\n",
    "#Casting\n",
    "#If you want to specify the data type of a variable, this can be done with casting.\n",
    "\n",
    "x = str(3)    # x will be '3'\n",
    "y = int(3)    # y will be 3\n",
    "z = float(3)  # z will be 3.0\n",
    "print(x,y,z)\n",
    "\n",
    "#Assign Multiple Values\n",
    "x, y, z = \"Orange\", \"Banana\", \"Cherry\"\n",
    "print(x)\n",
    "print(y)\n",
    "print(z)\n",
    "\n",
    "x = y = z = \"Orange\" #one value to mutiple varaiables\n",
    "print(x)\n",
    "print(y)\n",
    "print(z)\n",
    "\n",
    "#Unpack a Collection\n",
    "#If you have a collection of values in a list, tuple etc. Python allows you to extract the values into variables. This is called unpacking.\n",
    "\n",
    "fruits = [\"apple\", \"banana\", \"cherry\"]\n",
    "x, y, z = fruits\n",
    "print(x)\n",
    "print(y)\n",
    "print(z)\n",
    "\n"
   ]
  },
  {
   "cell_type": "markdown",
   "metadata": {},
   "source": [
    "## Object Identity\n",
    "In Python, every object that is created is given a number that uniquely identifies it. It is guaranteed that no two objects will have the same identifier during any period in which their lifetimes overlap. Once an object’s reference count drops to zero and it is garbage collecte\n",
    "\n",
    "For For purposes of optimization , the interpreter creates objects for the integers in the range [-5, 256] at startup, and then reuses them during program execution. Thus, when you assign separate variables to an integer value in this range, they will actually reference the same object."
   ]
  },
  {
   "cell_type": "code",
   "execution_count": 18,
   "metadata": {},
   "outputs": [
    {
     "name": "stdout",
     "output_type": "stream",
     "text": [
      "2153045521616 2153045521616\n",
      "2153045521328 2153045521648\n",
      "2152946362736 2152946362736\n"
     ]
    }
   ],
   "source": [
    "n = 300\n",
    "m = n \n",
    "print(id(n),id(m)) #both m,n arerefering to same object ,thus same id, referncecount will be 2\n",
    "\n",
    "m = 300\n",
    "n = 300\n",
    "print(id(n),id(m)) #both m,n rerefering to differnt object ,thus differnt id, referncecount will be 1 for each object\n",
    "\n",
    "#For purposes of optimization\n",
    "m = 3\n",
    "n = 3\n",
    "print(id(n),id(m)) #both m,n rerefering to differnt object , but same id\n",
    "\n"
   ]
  },
  {
   "cell_type": "markdown",
   "metadata": {},
   "source": [
    "### Keywords\n",
    "Keywords are predefined, reserved words used in Python programming that have special meanings to the compiler.\n",
    "\n",
    "We cannot use a keyword as a variable name, function name, or any other identifier. They are used to define the syntax and structure of the Python language.\n",
    "\n",
    "All the keywords except True, False and None are in lowercase\n",
    "\n",
    "url: https://www.programiz.com/python-programming/keywords-identifier"
   ]
  }
 ],
 "metadata": {
  "kernelspec": {
   "display_name": "base",
   "language": "python",
   "name": "python3"
  },
  "language_info": {
   "codemirror_mode": {
    "name": "ipython",
    "version": 3
   },
   "file_extension": ".py",
   "mimetype": "text/x-python",
   "name": "python",
   "nbconvert_exporter": "python",
   "pygments_lexer": "ipython3",
   "version": "3.9.13"
  }
 },
 "nbformat": 4,
 "nbformat_minor": 2
}

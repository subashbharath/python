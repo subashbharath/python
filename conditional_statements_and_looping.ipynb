{
 "cells": [
  {
   "cell_type": "markdown",
   "metadata": {},
   "source": [
    "### Conditional Statement\n",
    "\n",
    "Conditional Statement in Python perform different computations or actions depending on whether a specific Boolean constraint evaluates to true or false. Conditional statements are handled by IF statements in Python.\n",
    "\n",
    "Python if Statement is used for decision-making operations. It contains a body of code which runs only when the condition given in the if statement is true. If the condition is false, then the optional else statement runs which contains some code for the else condition."
   ]
  },
  {
   "cell_type": "code",
   "execution_count": 3,
   "metadata": {},
   "outputs": [
    {
     "name": "stdout",
     "output_type": "stream",
     "text": [
      "true\n",
      "1\n",
      "True\n",
      "Both x and y are greater than their respective thresholds\n"
     ]
    }
   ],
   "source": [
    "#Example if -else\n",
    "a =10\n",
    "if a:\n",
    "    print(\"true\")\n",
    "else:\n",
    "    print(\"false\")\n",
    "\n",
    "#Example elif\n",
    "a=1\n",
    "if a==1:\n",
    "    print(\"1\")\n",
    "elif a==2:\n",
    "    print(\"2\")\n",
    "else:\n",
    "    print(\"invalid condidtion\")\n",
    "\n",
    "#Example Nested-if\n",
    "a='1'\n",
    "if type(a)==str:\n",
    "    if len(a)==1:\n",
    "        print(\"True\")\n",
    "    else:\n",
    "        print(\"False\")\n",
    "else:\n",
    "    print(\"invalid format\")\n",
    "\n",
    "\n",
    "#we can also use logical operators like and, or, and not to combine multiple conditions in a single if statement. For example:\n",
    "x = 10\n",
    "y = 20\n",
    "\n",
    "if x > 5 and y > 10:\n",
    "    print(\"Both x and y are greater than their respective thresholds\")"
   ]
  },
  {
   "cell_type": "markdown",
   "metadata": {},
   "source": [
    "## LOOPS"
   ]
  },
  {
   "cell_type": "code",
   "execution_count": 7,
   "metadata": {},
   "outputs": [
    {
     "name": "stdout",
     "output_type": "stream",
     "text": [
      "apple\n",
      "banana\n",
      "cherry\n",
      "1\n",
      "2\n",
      "3\n",
      "4\n",
      "5\n",
      "0 0\n",
      "0 1\n",
      "1 0\n",
      "1 1\n",
      "2 0\n",
      "2 1\n",
      "0\n",
      "1\n",
      "2\n",
      "3\n",
      "4\n"
     ]
    }
   ],
   "source": [
    "#For Loop: A for loop is used to iterate over a sequence (such as a list, tuple, or string) or any other iterable object. \n",
    "fruits = [\"apple\", \"banana\", \"cherry\"]\n",
    "for fruit in fruits:\n",
    "    print(fruit)\n",
    "\n",
    "#While Loop: A while loop is used to execute a block of code as long as a condition is true. Here's an example:\n",
    "i = 1\n",
    "while i <= 5:\n",
    "    print(i)\n",
    "    i += 1\n",
    "\n",
    "#Nested Loops: You can also have loops inside other loops, known as nested loops. For example:\n",
    "for i in range(3):\n",
    "    for j in range(2):\n",
    "        print(i, j)\n",
    "\n",
    "#Loop Control Statements: Python also provides loop control statements like break, continue, and pass to control the flow of loops. For example:\n",
    "for i in range(10):\n",
    "    if i == 5:\n",
    "        break\n",
    "    print(i)"
   ]
  },
  {
   "cell_type": "markdown",
   "metadata": {},
   "source": [
    "## Iterators\n",
    "Iterators are methods that iterate collections like lists, tuples, etc. Using an iterator method, we can loop through an object and return its elements.\n",
    "\n",
    "Technically, a Python iterator object must implement two special methods, __iter__() and __next__(), collectively called the iterator protocol."
   ]
  },
  {
   "cell_type": "code",
   "execution_count": 10,
   "metadata": {},
   "outputs": [
    {
     "name": "stdout",
     "output_type": "stream",
     "text": [
      "4\n",
      "7\n",
      "0\n"
     ]
    }
   ],
   "source": [
    "# define a list\n",
    "my_list = [4, 7, 0]\n",
    "\n",
    "# create an iterator from the list\n",
    "iterator = iter(my_list)\n",
    "\n",
    "# get the first element of the iterator\n",
    "print(next(iterator))  # prints 4\n",
    "\n",
    "# get the second element of the iterator\n",
    "print(next(iterator))  # prints 7\n",
    "\n",
    "# get the third element of the iterator\n",
    "print(next(iterator))  # prints 0"
   ]
  },
  {
   "cell_type": "markdown",
   "metadata": {},
   "source": [
    "## Comphersions"
   ]
  },
  {
   "cell_type": "markdown",
   "metadata": {},
   "source": [
    "Comprehensions are a concise and efficient way to create new sequences (lists, sets, dictionaries) by applying an operation to each element of an existing sequence or iterable.\n",
    "\n",
    "There are three types of comprehensions in Python:\n",
    "\n",
    "1. List Comprehensions: These are used to create new lists by applying an expression to each element of an existing list or iterable. The basic syntax is:\n",
    "new_list = [expression for item in iterable if condition]\n",
    "\n",
    "2. Set Comprehensions: These are similar to list comprehensions but create new sets instead of lists. The syntax is:\n",
    "python\n",
    "new_set = {expression for item in iterable if condition}\n",
    "\n",
    "3. Dictionary Comprehensions: These are used to create new dictionaries by applying an expression to each key-value pair of an existing dictionary or iterable. The syntax is:\n",
    "new_dict = {key_expression: value_expression for item in iterable if condition}\n",
    "\n",
    "\n",
    "Comprehensions can also be nested, and you can use multiple for and if clauses to create more complex comprehensions. For example, to create a list of tuples containing all possible pairs of numbers from two lists:"
   ]
  },
  {
   "cell_type": "code",
   "execution_count": 9,
   "metadata": {},
   "outputs": [],
   "source": [
    "#examples\n",
    "squares = [x**2 for x in range(1, 11)]\n",
    "\n",
    "squares_set = {x**2 for x in range(1, 11)}\n",
    "\n",
    "squares_dict = {x: x**2 for x in range(1, 11)}\n",
    "\n",
    "list1 = [1, 2, 3]\n",
    "list2 = [4, 5, 6]\n",
    "pairs = [(x, y) for x in list1 for y in list2]\n"
   ]
  }
 ],
 "metadata": {
  "kernelspec": {
   "display_name": "base",
   "language": "python",
   "name": "python3"
  },
  "language_info": {
   "codemirror_mode": {
    "name": "ipython",
    "version": 3
   },
   "file_extension": ".py",
   "mimetype": "text/x-python",
   "name": "python",
   "nbconvert_exporter": "python",
   "pygments_lexer": "ipython3",
   "version": "3.9.13"
  }
 },
 "nbformat": 4,
 "nbformat_minor": 2
}

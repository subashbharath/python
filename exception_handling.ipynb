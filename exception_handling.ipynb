{
 "cells": [
  {
   "attachments": {
    "image-2.png": {
     "image/png": "[encoded data removed]"
    }
   },
   "cell_type": "markdown",
   "id": "438a9b38",
   "metadata": {},
   "source": [
    "# Exceptions\n",
    "\n",
    "## Errors vs Exceptions\n",
    "\n",
    "#### Errors:\n",
    "A problem in the program\n",
    "\n",
    "#### Syntax Error: \n",
    "Problems resulting from the way the sequence of characters in source code is written\n",
    "\n",
    "#### Exceptions: \n",
    "Errors detected during program execution which are not unconditionally fatal\n",
    "\n",
    "![image-2.png](attachment:image-2.png)"
   ]
  },
  {
   "cell_type": "code",
   "execution_count": 65,
   "id": "33de5a2e",
   "metadata": {},
   "outputs": [
    {
     "ename": "SyntaxError",
     "evalue": "Missing parentheses in call to 'print'. Did you mean print(a #Syntax Error)? (1327024984.py, line 1)",
     "output_type": "error",
     "traceback": [
      "\u001b[0;36m  File \u001b[0;32m\"/var/folders/02/slr51gz954352yccdt5n4j280000gn/T/ipykernel_57401/1327024984.py\"\u001b[0;36m, line \u001b[0;32m1\u001b[0m\n\u001b[0;31m    print a #Syntax Error\u001b[0m\n\u001b[0m          ^\u001b[0m\n\u001b[0;31mSyntaxError\u001b[0m\u001b[0;31m:\u001b[0m Missing parentheses in call to 'print'. Did you mean print(a #Syntax Error)?\n"
     ]
    }
   ],
   "source": [
    "print a #Syntax Error"
   ]
  },
  {
   "cell_type": "code",
   "execution_count": 1,
   "id": "9c9c9fc6",
   "metadata": {},
   "outputs": [
    {
     "ename": "NameError",
     "evalue": "name 'a' is not defined",
     "output_type": "error",
     "traceback": [
      "\u001b[0;31m---------------------------------------------------------------------------\u001b[0m",
      "\u001b[0;31mNameError\u001b[0m                                 Traceback (most recent call last)",
      "\u001b[0;32m/var/folders/02/slr51gz954352yccdt5n4j280000gn/T/ipykernel_58659/280615497.py\u001b[0m in \u001b[0;36m<module>\u001b[0;34m\u001b[0m\n\u001b[0;32m----> 1\u001b[0;31m \u001b[0mprint\u001b[0m\u001b[0;34m(\u001b[0m\u001b[0ma\u001b[0m\u001b[0;34m)\u001b[0m \u001b[0;31m#Exception\u001b[0m\u001b[0;34m\u001b[0m\u001b[0;34m\u001b[0m\u001b[0m\n\u001b[0m",
      "\u001b[0;31mNameError\u001b[0m: name 'a' is not defined"
     ]
    }
   ],
   "source": [
    "print(a) #Exception"
   ]
  },
  {
   "cell_type": "markdown",
   "id": "d5a72f02",
   "metadata": {},
   "source": [
    "## Examples of Exceptions\n",
    "### Full List: http://docs.python.org/library/exceptions.html "
   ]
  },
  {
   "cell_type": "markdown",
   "id": "5613222b",
   "metadata": {},
   "source": [
    "```ZeroDivisionError``` is thrown when the second operator in the division is zero.\n"
   ]
  },
  {
   "cell_type": "code",
   "execution_count": 3,
   "id": "dbdc5f02",
   "metadata": {},
   "outputs": [
    {
     "ename": "ZeroDivisionError",
     "evalue": "division by zero",
     "output_type": "error",
     "traceback": [
      "\u001b[0;31m---------------------------------------------------------------------------\u001b[0m",
      "\u001b[0;31mZeroDivisionError\u001b[0m                         Traceback (most recent call last)",
      "\u001b[0;32m/var/folders/02/slr51gz954352yccdt5n4j280000gn/T/ipykernel_57401/621970991.py\u001b[0m in \u001b[0;36m<module>\u001b[0;34m\u001b[0m\n\u001b[0;32m----> 1\u001b[0;31m \u001b[0;36m100\u001b[0m\u001b[0;34m/\u001b[0m\u001b[0;36m0\u001b[0m\u001b[0;34m\u001b[0m\u001b[0;34m\u001b[0m\u001b[0m\n\u001b[0m",
      "\u001b[0;31mZeroDivisionError\u001b[0m: division by zero"
     ]
    }
   ],
   "source": [
    "100/0"
   ]
  },
  {
   "cell_type": "markdown",
   "id": "55643374",
   "metadata": {},
   "source": [
    "```ValueError``` is thrown when a function's argument is of an inappropriate type."
   ]
  },
  {
   "cell_type": "code",
   "execution_count": 4,
   "id": "6b97b911",
   "metadata": {},
   "outputs": [
    {
     "ename": "ValueError",
     "evalue": "invalid literal for int() with base 10: 'abc'",
     "output_type": "error",
     "traceback": [
      "\u001b[0;31m---------------------------------------------------------------------------\u001b[0m",
      "\u001b[0;31mValueError\u001b[0m                                Traceback (most recent call last)",
      "\u001b[0;32m/var/folders/02/slr51gz954352yccdt5n4j280000gn/T/ipykernel_57401/2151585967.py\u001b[0m in \u001b[0;36m<module>\u001b[0;34m\u001b[0m\n\u001b[0;32m----> 1\u001b[0;31m \u001b[0mint\u001b[0m\u001b[0;34m(\u001b[0m\u001b[0;34m\"abc\"\u001b[0m\u001b[0;34m)\u001b[0m\u001b[0;34m\u001b[0m\u001b[0;34m\u001b[0m\u001b[0m\n\u001b[0m",
      "\u001b[0;31mValueError\u001b[0m: invalid literal for int() with base 10: 'abc'"
     ]
    }
   ],
   "source": [
    "int(\"abc\")"
   ]
  },
  {
   "cell_type": "markdown",
   "id": "929cefce",
   "metadata": {},
   "source": [
    "```IndexError``` is thrown accessing index outside of list"
   ]
  },
  {
   "cell_type": "code",
   "execution_count": 3,
   "id": "ba3775f2",
   "metadata": {},
   "outputs": [
    {
     "ename": "IndexError",
     "evalue": "list index out of range",
     "output_type": "error",
     "traceback": [
      "\u001b[0;31m---------------------------------------------------------------------------\u001b[0m",
      "\u001b[0;31mIndexError\u001b[0m                                Traceback (most recent call last)",
      "\u001b[0;32m/var/folders/02/slr51gz954352yccdt5n4j280000gn/T/ipykernel_58659/1534004905.py\u001b[0m in \u001b[0;36m<module>\u001b[0;34m\u001b[0m\n\u001b[1;32m      1\u001b[0m \u001b[0marr\u001b[0m \u001b[0;34m=\u001b[0m \u001b[0;34m[\u001b[0m\u001b[0;36m1\u001b[0m\u001b[0;34m,\u001b[0m\u001b[0;36m2\u001b[0m\u001b[0;34m,\u001b[0m\u001b[0;36m3\u001b[0m\u001b[0;34m]\u001b[0m\u001b[0;34m\u001b[0m\u001b[0;34m\u001b[0m\u001b[0m\n\u001b[0;32m----> 2\u001b[0;31m \u001b[0mprint\u001b[0m\u001b[0;34m(\u001b[0m\u001b[0marr\u001b[0m\u001b[0;34m[\u001b[0m\u001b[0;36m4\u001b[0m\u001b[0;34m]\u001b[0m\u001b[0;34m)\u001b[0m\u001b[0;34m\u001b[0m\u001b[0;34m\u001b[0m\u001b[0m\n\u001b[0m",
      "\u001b[0;31mIndexError\u001b[0m: list index out of range"
     ]
    }
   ],
   "source": [
    "arr = [1,2,3]\n",
    "print(arr[4])"
   ]
  },
  {
   "cell_type": "markdown",
   "id": "cc6f371e",
   "metadata": {},
   "source": [
    "```KeyError``` is thrown accessing dictionary key that doesn't exist"
   ]
  },
  {
   "cell_type": "code",
   "execution_count": 6,
   "id": "e476a18e",
   "metadata": {},
   "outputs": [
    {
     "ename": "KeyError",
     "evalue": "'A'",
     "output_type": "error",
     "traceback": [
      "\u001b[0;31m---------------------------------------------------------------------------\u001b[0m",
      "\u001b[0;31mKeyError\u001b[0m                                  Traceback (most recent call last)",
      "\u001b[0;32m/var/folders/02/slr51gz954352yccdt5n4j280000gn/T/ipykernel_57401/3293427771.py\u001b[0m in \u001b[0;36m<module>\u001b[0;34m\u001b[0m\n\u001b[1;32m      1\u001b[0m \u001b[0mdict\u001b[0m \u001b[0;34m=\u001b[0m \u001b[0;34m{\u001b[0m\u001b[0;34m'X'\u001b[0m\u001b[0;34m:\u001b[0m \u001b[0;36m2\u001b[0m\u001b[0;34m,\u001b[0m \u001b[0;34m'Y'\u001b[0m\u001b[0;34m:\u001b[0m \u001b[0;36m3\u001b[0m\u001b[0;34m,\u001b[0m \u001b[0;34m'Z'\u001b[0m\u001b[0;34m:\u001b[0m \u001b[0;36m4\u001b[0m\u001b[0;34m}\u001b[0m\u001b[0;34m\u001b[0m\u001b[0;34m\u001b[0m\u001b[0m\n\u001b[0;32m----> 2\u001b[0;31m \u001b[0mprint\u001b[0m\u001b[0;34m(\u001b[0m\u001b[0mdict\u001b[0m\u001b[0;34m[\u001b[0m\u001b[0;34m'A'\u001b[0m\u001b[0;34m]\u001b[0m\u001b[0;34m)\u001b[0m\u001b[0;34m\u001b[0m\u001b[0;34m\u001b[0m\u001b[0m\n\u001b[0m",
      "\u001b[0;31mKeyError\u001b[0m: 'A'"
     ]
    }
   ],
   "source": [
    "dict = {'X': 2, 'Y': 3, 'Z': 4}\n",
    "print(dict['A'])"
   ]
  },
  {
   "cell_type": "markdown",
   "id": "a41c71d7",
   "metadata": {},
   "source": [
    "## Why do Exception Handling\n",
    "\n",
    "Sometimes you want your code to handle exceptions \"gracefully\", e.g. providing useful feedback. Especially useful for anything you will give to someone else to use (finished program or modules etc)."
   ]
  },
  {
   "cell_type": "code",
   "execution_count": 38,
   "id": "4f8204ce",
   "metadata": {},
   "outputs": [
    {
     "name": "stdout",
     "output_type": "stream",
     "text": [
      "Enter a dividend: 22\n",
      "Enter a divisor: 0\n"
     ]
    },
    {
     "ename": "ZeroDivisionError",
     "evalue": "division by zero",
     "output_type": "error",
     "traceback": [
      "\u001b[0;31m---------------------------------------------------------------------------\u001b[0m",
      "\u001b[0;31mZeroDivisionError\u001b[0m                         Traceback (most recent call last)",
      "\u001b[0;32m/var/folders/02/slr51gz954352yccdt5n4j280000gn/T/ipykernel_57401/1225086508.py\u001b[0m in \u001b[0;36m<module>\u001b[0;34m\u001b[0m\n\u001b[1;32m      6\u001b[0m \u001b[0;34m\u001b[0m\u001b[0m\n\u001b[1;32m      7\u001b[0m \u001b[0;34m\u001b[0m\u001b[0m\n\u001b[0;32m----> 8\u001b[0;31m \u001b[0mdivide\u001b[0m\u001b[0;34m(\u001b[0m\u001b[0;34m)\u001b[0m\u001b[0;34m\u001b[0m\u001b[0;34m\u001b[0m\u001b[0m\n\u001b[0m",
      "\u001b[0;32m/var/folders/02/slr51gz954352yccdt5n4j280000gn/T/ipykernel_57401/1225086508.py\u001b[0m in \u001b[0;36mdivide\u001b[0;34m()\u001b[0m\n\u001b[1;32m      2\u001b[0m     \u001b[0mdividend\u001b[0m \u001b[0;34m=\u001b[0m \u001b[0mint\u001b[0m\u001b[0;34m(\u001b[0m\u001b[0minput\u001b[0m\u001b[0;34m(\u001b[0m\u001b[0;34m\"Enter a dividend: \"\u001b[0m\u001b[0;34m)\u001b[0m\u001b[0;34m)\u001b[0m\u001b[0;34m\u001b[0m\u001b[0;34m\u001b[0m\u001b[0m\n\u001b[1;32m      3\u001b[0m     \u001b[0mdivisor\u001b[0m \u001b[0;34m=\u001b[0m \u001b[0mint\u001b[0m\u001b[0;34m(\u001b[0m\u001b[0minput\u001b[0m\u001b[0;34m(\u001b[0m\u001b[0;34m\"Enter a divisor: \"\u001b[0m\u001b[0;34m)\u001b[0m\u001b[0;34m)\u001b[0m\u001b[0;34m\u001b[0m\u001b[0;34m\u001b[0m\u001b[0m\n\u001b[0;32m----> 4\u001b[0;31m     \u001b[0mresult\u001b[0m \u001b[0;34m=\u001b[0m \u001b[0mdividend\u001b[0m \u001b[0;34m/\u001b[0m \u001b[0mdivisor\u001b[0m\u001b[0;34m\u001b[0m\u001b[0;34m\u001b[0m\u001b[0m\n\u001b[0m\u001b[1;32m      5\u001b[0m     \u001b[0mprint\u001b[0m\u001b[0;34m(\u001b[0m\u001b[0;34m\"Result: \"\u001b[0m\u001b[0;34m,\u001b[0m \u001b[0mresult\u001b[0m\u001b[0;34m)\u001b[0m\u001b[0;34m\u001b[0m\u001b[0;34m\u001b[0m\u001b[0m\n\u001b[1;32m      6\u001b[0m \u001b[0;34m\u001b[0m\u001b[0m\n",
      "\u001b[0;31mZeroDivisionError\u001b[0m: division by zero"
     ]
    }
   ],
   "source": [
    "def divide():\n",
    "    dividend = int(input(\"Enter a dividend: \"))\n",
    "    divisor = int(input(\"Enter a divisor: \"))\n",
    "    result = dividend / divisor\n",
    "    print(\"Result: \", result)\n",
    "    \n",
    "    \n",
    "divide()"
   ]
  },
  {
   "cell_type": "markdown",
   "id": "1ec08359",
   "metadata": {},
   "source": [
    "# Try-Except\n",
    "```try:\n",
    "    # code attempts to run\n",
    "except:\n",
    "    # code runs if an exception occurs```"
   ]
  },
  {
   "cell_type": "code",
   "execution_count": 6,
   "id": "6573d72b",
   "metadata": {},
   "outputs": [
    {
     "name": "stdout",
     "output_type": "stream",
     "text": [
      "Enter a dividend: 22\n",
      "Enter a divisor: a\n",
      "Something wrong happened!\n"
     ]
    }
   ],
   "source": [
    "def divide():\n",
    "    try:    \n",
    "        dividend = int(input(\"Enter a dividend: \"))\n",
    "        divisor = int(input(\"Enter a divisor: \"))\n",
    "        print(\"Dividing\")\n",
    "        result = dividend/divisor\n",
    "        print(\"Result:\", result)\n",
    "    except:\n",
    "        print(\"Something wrong happened!\")\n",
    "    \n",
    "divide()"
   ]
  },
  {
   "cell_type": "code",
   "execution_count": 8,
   "id": "260f9cec",
   "metadata": {},
   "outputs": [
    {
     "name": "stdout",
     "output_type": "stream",
     "text": [
      "Enter a dividend: 22\n",
      "Enter a divisor: a\n",
      "Something wrong happened!\n"
     ]
    }
   ],
   "source": [
    "def divide():\n",
    "    try:    \n",
    "        dividend = int(input(\"Enter a dividend: \"))\n",
    "        divisor = int(input(\"Enter a divisor: \"))\n",
    "        print(\"Dividing\")\n",
    "        result = dividend/divisor\n",
    "        print(\"Result:\", result)\n",
    "    except ZeroDivisionError:\n",
    "        print(\"You can't divide by zero!\")\n",
    "    except:\n",
    "        print(\"Something wrong happened!\")\n",
    "    \n",
    "divide()"
   ]
  },
  {
   "cell_type": "code",
   "execution_count": 9,
   "id": "e1dc6111",
   "metadata": {},
   "outputs": [
    {
     "name": "stdout",
     "output_type": "stream",
     "text": [
      "Enter a dividend: 22\n",
      "Enter a divisor: 0\n",
      "Dividing\n",
      "division by zero\n"
     ]
    }
   ],
   "source": [
    "def divide():\n",
    "    try:    \n",
    "        dividend = int(input(\"Enter a dividend: \"))\n",
    "        divisor = int(input(\"Enter a divisor: \"))\n",
    "        print(\"Dividing\")\n",
    "        result = dividend/divisor\n",
    "        print(\"Result:\", result)\n",
    "    except ZeroDivisionError as e:\n",
    "        print(e)\n",
    "    except ValueError:\n",
    "        print(\"You need to enter a integer\")\n",
    "    except:\n",
    "        print(\"Something wrong happened!\")\n",
    "divide()"
   ]
  },
  {
   "cell_type": "markdown",
   "id": "782db345",
   "metadata": {},
   "source": [
    "# Try-Except-Else\n",
    "\n",
    "```try:\n",
    "    # code attempts to run\n",
    "except:\n",
    "    # code runs if an exception occurs\n",
    "else:\n",
    "    # code runs if an exception doesn't occur```"
   ]
  },
  {
   "cell_type": "code",
   "execution_count": 12,
   "id": "a200e4a8",
   "metadata": {},
   "outputs": [
    {
     "name": "stdout",
     "output_type": "stream",
     "text": [
      "Enter a dividend: 22\n",
      "Enter a divisor: 2\n",
      "Dividing\n",
      "Result: 11.0\n"
     ]
    }
   ],
   "source": [
    "def divide():\n",
    "    try:    \n",
    "        dividend = int(input(\"Enter a dividend: \"))\n",
    "        divisor = int(input(\"Enter a divisor: \"))\n",
    "        result = dividend/divisor\n",
    "    except ZeroDivisionError as e:\n",
    "        print(e)\n",
    "    except ValueError:\n",
    "        print(\"You need to enter a integer\")\n",
    "    except:\n",
    "        print(\"Something wrong happened!\")\n",
    "    else:\n",
    "        print(\"Dividing\")\n",
    "        print(\"Result:\", result)\n",
    "divide()"
   ]
  },
  {
   "cell_type": "markdown",
   "id": "d5104267",
   "metadata": {},
   "source": [
    "# Try-Except-Else-Finally\n",
    "```try:\n",
    "    # code attempts to run\n",
    "except:\n",
    "    # code runs if an exception occurs\n",
    "else:\n",
    "    # code runs if an exception doesn't occur\n",
    "finally:\n",
    "    # code runs no matter what```"
   ]
  },
  {
   "cell_type": "code",
   "execution_count": 14,
   "id": "de0af093",
   "metadata": {},
   "outputs": [
    {
     "name": "stdout",
     "output_type": "stream",
     "text": [
      "Enter a dividend: 22\n",
      "Enter a divisor: 2\n",
      "Dividing\n",
      "Result: 11.0\n",
      "Terminating Program\n"
     ]
    },
    {
     "data": {
      "text/plain": [
       "11.0"
      ]
     },
     "execution_count": 14,
     "metadata": {},
     "output_type": "execute_result"
    }
   ],
   "source": [
    "def divide():\n",
    "    try:    \n",
    "        dividend = int(input(\"Enter a dividend: \"))\n",
    "        divisor = int(input(\"Enter a divisor: \"))\n",
    "        result = dividend/divisor\n",
    "    except ZeroDivisionError as e:\n",
    "        print(e)\n",
    "        return 0\n",
    "    except ValueError:\n",
    "        print(\"You need to enter a integer\")\n",
    "        return 0\n",
    "    except:\n",
    "        print(\"Something wrong happened!\")\n",
    "        return 0\n",
    "    else:\n",
    "        print(\"Dividing\")\n",
    "        print(\"Result:\", result)\n",
    "        return result\n",
    "    finally: #Ignores even return statements\n",
    "        print(\"Terminating Program\")\n",
    "divide()"
   ]
  },
  {
   "cell_type": "code",
   "execution_count": null,
   "id": "34bfad2f",
   "metadata": {},
   "outputs": [],
   "source": []
  }
 ],
 "metadata": {
  "kernelspec": {
   "display_name": "Python 3 (ipykernel)",
   "language": "python",
   "name": "python3"
  },
  "language_info": {
   "codemirror_mode": {
    "name": "ipython",
    "version": 3
   },
   "file_extension": ".py",
   "mimetype": "text/x-python",
   "name": "python",
   "nbconvert_exporter": "python",
   "pygments_lexer": "ipython3",
   "version": "3.9.7"
  }
 },
 "nbformat": 4,
 "nbformat_minor": 5
}

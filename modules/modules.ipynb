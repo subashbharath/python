{
 "cells": [
  {
   "cell_type": "code",
   "execution_count": null,
   "metadata": {},
   "outputs": [],
   "source": [
    "#"
   ]
  },
  {
   "cell_type": "markdown",
   "metadata": {},
   "source": [
    "# Modules\n",
    "A file containing Python definitions and statements is called a python module. So naturally, the file name is the module name which is appended with the suffix .py\n",
    "\n",
    "Python Module is essentially a python script file that can contain variables, functions, and classes. Python modules help us in organizing our code and then referencing them in other classes or python scripts.\n",
    "\n",
    "\n",
    "if you are looking for the Python modules available to you, then you can execute help('modules') command in Python shell to get the list of available modules.\n"
   ]
  },
  {
   "cell_type": "markdown",
   "metadata": {},
   "source": [
    "### What is the difference between module and package in Python?\n",
    "Python package is a collection of python modules. Python module is a single python file whereas python package is a directory having multiple python scripts and __init__.py file defining the package details."
   ]
  },
  {
   "cell_type": "markdown",
   "metadata": {},
   "source": [
    "#"
   ]
  },
  {
   "cell_type": "code",
   "execution_count": 4,
   "metadata": {},
   "outputs": [
    {
     "data": {
      "text/plain": [
       "['__builtins__',\n",
       " '__cached__',\n",
       " '__doc__',\n",
       " '__file__',\n",
       " '__loader__',\n",
       " '__name__',\n",
       " '__package__',\n",
       " '__spec__',\n",
       " 'printBackwards',\n",
       " 'printForward']"
      ]
     },
     "execution_count": 4,
     "metadata": {},
     "output_type": "execute_result"
    }
   ],
   "source": [
    "# importing modules to other files\n",
    "'''\n",
    "This import command will look for printNumbers.py file in the current directory \n",
    "and PATH variable locations. Once the file is found, the code in the file will be available for us to use. \n",
    "Now to access the module’s function '''\n",
    "\n",
    "import print_numbers\n",
    "\n",
    "dir(print_numbers) # to check avaiable methods in the module"
   ]
  },
  {
   "cell_type": "code",
   "execution_count": 7,
   "metadata": {},
   "outputs": [
    {
     "name": "stdout",
     "output_type": "stream",
     "text": [
      "10\n",
      "9\n",
      "8\n",
      "7\n",
      "6\n",
      "5\n",
      "4\n",
      "3\n",
      "2\n",
      "1\n"
     ]
    }
   ],
   "source": [
    "#to import speific method from module\n",
    "from print_numbers import printBackwards\n",
    "printBackwards(10)"
   ]
  },
  {
   "cell_type": "markdown",
   "metadata": {},
   "source": [
    "### import module from diffent folder\n",
    "When we try to import a python module, it’s looked into the current directory and the PATH variable location. So if your python file is not present in these locations, then you will get ModuleNotFoundError. The solution is to import sys module and then append the required directory to its path variable. \n",
    "\n",
    "\n",
    "**import sys**\n",
    "\n",
    "**sys.path.append('module_path')**"
   ]
  },
  {
   "cell_type": "markdown",
   "metadata": {},
   "source": [
    "# Built-in Module\n",
    "\n"
   ]
  },
  {
   "cell_type": "code",
   "execution_count": 8,
   "metadata": {},
   "outputs": [
    {
     "name": "stdout",
     "output_type": "stream",
     "text": [
      "\n",
      "Please wait a moment while I gather a list of all available modules...\n",
      "\n"
     ]
    },
    {
     "name": "stderr",
     "output_type": "stream",
     "text": [
      "c:\\Users\\91960\\anaconda3\\lib\\site-packages\\IPython\\kernel\\__init__.py:12: ShimWarning: The `IPython.kernel` package has been deprecated since IPython 4.0.You should import from ipykernel or jupyter_client instead.\n",
      "  warn(\"The `IPython.kernel` package has been deprecated since IPython 4.0.\"\n",
      "WARNING: AstropyDeprecationWarning: The private astropy._erfa module has been made into its own package, pyerfa, which is a dependency of astropy and can be imported directly using \"import erfa\" [astropy._erfa]\n",
      "c:\\Users\\91960\\anaconda3\\lib\\site-packages\\paramiko\\transport.py:219: CryptographyDeprecationWarning: Blowfish has been deprecated\n",
      "  \"class\": algorithms.Blowfish,\n",
      "c:\\Users\\91960\\anaconda3\\lib\\site-packages\\nltk\\twitter\\__init__.py:20: UserWarning: The twython library has not been installed. Some functionality from the twitter package will not be available.\n",
      "  warnings.warn(\n",
      "c:\\Users\\91960\\anaconda3\\lib\\site-packages\\_distutils_hack\\__init__.py:33: UserWarning: Setuptools is replacing distutils.\n",
      "  warnings.warn(\"Setuptools is replacing distutils.\")\n",
      "No QCoreApplication instance found. Application patches not applied. You have to call load_stylesheet function after instantiation of QApplication to take effect. \n",
      "c:\\Users\\91960\\anaconda3\\lib\\site-packages\\torch\\distributed\\_sharded_tensor\\__init__.py:8: DeprecationWarning:\n",
      "\n",
      "torch.distributed._sharded_tensor will be deprecated, use torch.distributed._shard.sharded_tensor instead\n",
      "\n",
      "c:\\Users\\91960\\anaconda3\\lib\\site-packages\\torch\\distributed\\_sharding_spec\\__init__.py:8: DeprecationWarning:\n",
      "\n",
      "torch.distributed._sharding_spec will be deprecated, use torch.distributed._shard.sharding_spec instead\n",
      "\n",
      "NOTE: Redirects are currently not supported in Windows or MacOs.\n",
      "c:\\Users\\91960\\anaconda3\\lib\\pkgutil.py:108: VisibleDeprecationWarning:\n",
      "\n",
      "zmq.eventloop.minitornado is deprecated in pyzmq 14.0 and will be removed.\n",
      "    Install tornado itself to use zmq with the tornado IOLoop.\n",
      "    \n",
      "\n"
     ]
    },
    {
     "name": "stdout",
     "output_type": "stream",
     "text": [
      "Cython              conda_build         msgpack             sortedcontainers\n",
      "IPython             conda_content_trust msilib              soupsieve\n",
      "OpenSSL             conda_env           msvcrt              sphinx\n",
      "PIL                 conda_pack          multipledispatch    spyder\n",
      "PyQt5               conda_package_handling multiprocessing     spyder_kernels\n",
      "TBB                 conda_token         munkres             sqlalchemy\n",
      "__future__          conda_verify        mypy_extensions     sqlite3\n",
      "_abc                configparser        nacl                sre_compile\n",
      "_aix_support        constantly          navigator_updater   sre_constants\n",
      "_argon2_cffi_bindings contextlib          nbclassic           sre_parse\n",
      "_ast                contextvars         nbclient            ssl\n",
      "_asyncio            cookiecutter        nbconvert           sspi\n",
      "_bisect             copy                nbformat            sspicon\n",
      "_black_version      copyreg             nest_asyncio        stat\n",
      "_blake2             crypt               netbios             statistics\n",
      "_bootlocale         cryptography        netrc               statsmodels\n",
      "_bootsubprocess     cssselect           networkx            storemagic\n",
      "_bz2                csv                 nltk                string\n",
      "_cffi_backend       ctypes              nntplib             stringprep\n",
      "_codecs             curl                nose                struct\n",
      "_codecs_cn          curses              notebook            subprocess\n",
      "_codecs_hk          cwp                 nt                  sunau\n",
      "_codecs_iso2022     cycler              ntpath              symbol\n",
      "_codecs_jp          cython              ntsecuritycon       sympy\n",
      "_codecs_kr          cythonmagic         nturl2path          sympyprinting\n",
      "_codecs_tw          cytoolz             numba               symtable\n",
      "_collections        daal4py             numbergen           sys\n",
      "_collections_abc    dask                numbers             sysconfig\n",
      "_compat_pickle      dataclasses         numexpr             tables\n",
      "_compression        datashader          numpy               tabnanny\n",
      "_contextvars        datashape           numpydoc            tabulate\n",
      "_csv                datetime            odbc                tarfile\n",
      "_ctypes             dateutil            olefile             tbb\n",
      "_ctypes_test        dbi                 onedal              tblib\n",
      "_datetime           dbm                 opcode              telnetlib\n",
      "_decimal            dde                 openpyxl            tempfile\n",
      "_distutils_hack     debugpy             operator            tenacity\n",
      "_elementtree        decimal             optparse            terminado\n",
      "_functools          decorator           os                  test\n",
      "_hashlib            defusedxml          packaging           test_pycosat\n",
      "_heapq              diff_match_patch    pandas              testpath\n",
      "_imp                difflib             pandocfilters       tests\n",
      "_io                 dill                panel               text_unidecode\n",
      "_json               dis                 param               textblob\n",
      "_locale             distributed         paramiko            textdistance\n",
      "_lsprof             distutils           parsel              textwrap\n",
      "_lzma               doctest             parser              this\n",
      "_markupbase         docutils            parso               threading\n",
      "_md5                email               partd               threadpoolctl\n",
      "_msi                encodings           past                three_merge\n",
      "_multibytecodec     ensurepip           pathlib             tifffile\n",
      "_multiprocessing    entrypoints         pathspec            time\n",
      "_nsis               enum                patsy               timeit\n",
      "_opcode             erfa                pdb                 timer\n",
      "_operator           errno               pep8                tinycss\n",
      "_osx_support        et_xmlfile          perfmon             tkinter\n",
      "_overlapped         fastjsonschema      pexpect             tldextract\n",
      "_peg_parser         faulthandler        pickle              tlz\n",
      "_pickle             filecmp             pickleshare         token\n",
      "_plotly_future_     fileinput           pickletools         tokenize\n",
      "_plotly_utils       filelock            pip                 tokenizers\n",
      "_py_abc             flake8              pipes               toml\n",
      "_pydecimal          flask               pkg_resources       tomli\n",
      "_pyio               fnmatch             pkginfo             tomlkit\n",
      "_pyrsistent_version fontTools           pkgutil             toolz\n",
      "_pytest             formatter           platform            torch\n",
      "_queue              fractions           platformdirs        torchgen\n",
      "_random             fsspec              plistlib            torchvision\n",
      "_sha1               ftplib              plotly              tornado\n",
      "_sha256             functools           pluggy              tqdm\n",
      "_sha3               functorch           poplib              trace\n",
      "_sha512             future              posixpath           traceback\n",
      "_signal             gc                  poyo                tracemalloc\n",
      "_sitebuiltins       genericpath         pprint              traitlets\n",
      "_socket             gensim              print_numbers       transformers\n",
      "_sqlite3            getopt              profile             tty\n",
      "_sre                getpass             prometheus_client   turtle\n",
      "_ssl                gettext             prompt_toolkit      turtledemo\n",
      "_stat               glob                protego             twisted\n",
      "_statistics         glob2               pstats              types\n",
      "_string             graphlib            psutil              typing\n",
      "_strptime           greenlet            pty                 typing_extensions\n",
      "_struct             gzip                ptyprocess          ujson\n",
      "_symtable           h5py                pvectorc            unicodedata\n",
      "_system_path        hamcrest            py                  unidecode\n",
      "_testbuffer         hashlib             py_compile          unittest\n",
      "_testcapi           heapdict            pyasn1              urllib\n",
      "_testconsole        heapq               pyasn1_modules      urllib3\n",
      "_testimportmultiple hmac                pyclbr              uu\n",
      "_testinternalcapi   holoviews           pycodestyle         uuid\n",
      "_testmultiphase     html                pycosat             venv\n",
      "_thread             http                pycparser           w3lib\n",
      "_threading_local    huggingface_hub     pyct                warnings\n",
      "_tkinter            hvplot              pycurl              watchdog\n",
      "_tracemalloc        hyperlink           pydispatch          wave\n",
      "_uuid               idlelib             pydoc               wcwidth\n",
      "_warnings           idna                pydoc_data          weakref\n",
      "_weakref            imagecodecs         pydocstyle          webbrowser\n",
      "_weakrefset         imageio             pyexpat             webencodings\n",
      "_win32sysloader     imagesize           pyflakes            websocket\n",
      "_winapi             imaplib             pygments            werkzeug\n",
      "_winxptheme         imghdr              pylab               wheel\n",
      "_xxsubinterpreters  imp                 pylint              widgetsnbextension\n",
      "_yaml               importlib           pyls_spyder         win2kras\n",
      "_zoneinfo           importlib_metadata  pylsp               win32api\n",
      "abc                 incremental         pylsp_black         win32clipboard\n",
      "adodbapi            inflection          pylsp_jsonrpc       win32com\n",
      "afxres              iniconfig           pyodbc              win32con\n",
      "aifc                inspect             pyparsing           win32console\n",
      "alabaster           intake              pyrsistent          win32cred\n",
      "anaconda_navigator  intervaltree        pytest              win32crypt\n",
      "anaconda_project    io                  pythoncom           win32cryptcon\n",
      "antigravity         ipaddress           pytz                win32ctypes\n",
      "anyio               ipykernel           pyviz_comms         win32event\n",
      "appdirs             ipykernel_launcher  pywin               win32evtlog\n",
      "argon2              ipython_genutils    pywin32_bootstrap   win32evtlogutil\n",
      "argparse            ipywidgets          pywin32_testutil    win32file\n",
      "array               isapi               pywintypes          win32gui\n",
      "arrow               isort               pywt                win32gui_struct\n",
      "ast                 isympy              pyximport           win32help\n",
      "astroid             itemadapter         qdarkstyle          win32inet\n",
      "astropy             itemloaders         qstylizer           win32inetcon\n",
      "asynchat            itertools           qtawesome           win32job\n",
      "asyncio             itsdangerous        qtconsole           win32lz\n",
      "asyncore            jdcal               qtpy                win32net\n",
      "atexit              jedi                queue               win32netcon\n",
      "atomicwrites        jellyfish           queuelib            win32pdh\n",
      "attr                jinja2              quopri              win32pdhquery\n",
      "attrs               jinja2_time         random              win32pdhutil\n",
      "audioop             jmespath            rasutil             win32pipe\n",
      "automat             joblib              re                  win32print\n",
      "autopep8            json                regcheck            win32process\n",
      "autoreload          json5               regex               win32profile\n",
      "babel               jsonschema          regutil             win32ras\n",
      "backcall            jupyter             repo_cli            win32rcparser\n",
      "backports           jupyter_client      reprlib             win32security\n",
      "base64              jupyter_console     requests            win32service\n",
      "bcrypt              jupyter_core        requests_file       win32serviceutil\n",
      "bdb                 jupyter_server      rlcompleter         win32timezone\n",
      "binaryornot         jupyterlab          rmagic              win32trace\n",
      "binascii            jupyterlab_plotly   rope                win32traceutil\n",
      "binhex              jupyterlab_pygments rtree               win32transaction\n",
      "binstar_client      jupyterlab_server   ruamel_yaml         win32ts\n",
      "bisect              jupyterlab_widgets  run                 win32ui\n",
      "bitarray            jwt                 runpy               win32uiole\n",
      "bkcharts            keyring             s3transfer          win32verstamp\n",
      "black               keyword             sched               win32wnet\n",
      "blackd              kiwisolver          scipy               win_inet_pton\n",
      "bleach              lazy_object_proxy   scrapy              win_unicode_console\n",
      "blib2to3            lib2to3             seaborn             wincertstore\n",
      "bokeh               libarchive          secrets             winerror\n",
      "boto3               libfuturize         select              winioctlcon\n",
      "botocore            libpasteurize       selectors           winnt\n",
      "bottleneck          lief                send2trash          winperf\n",
      "brotli              lightgbm            sentence_transformers winpty\n",
      "bs4                 linecache           sentencepiece       winreg\n",
      "builtins            llvmlite            service_identity    winsound\n",
      "bz2                 locale              servicemanager      winxpgui\n",
      "cProfile            locket              setuptools          winxptheme\n",
      "calendar            logging             shelve              wrapt\n",
      "certifi             lxml                shlex               wsgiref\n",
      "cffi                lz4                 shutil              xarray\n",
      "cgi                 lzma                signal              xdrlib\n",
      "cgitb               mailbox             sip                 xlrd\n",
      "chardet             mailcap             sipconfig           xlsxwriter\n",
      "charset_normalizer  markdown            sipdistutils        xlwings\n",
      "chunk               markupsafe          site                xml\n",
      "click               marshal             six                 xmlrpc\n",
      "cloudpickle         math                skimage             xxsubtype\n",
      "clyent              matplotlib          sklearn             yaml\n",
      "cmath               matplotlib_inline   sklearnex           yapf\n",
      "cmd                 mccabe              slugify             yapftests\n",
      "code                menuinst            smart_open          zict\n",
      "codecs              mimetypes           smtpd               zipapp\n",
      "codeop              mistune             smtplib             zipfile\n",
      "collections         mkl                 snappy              zipimport\n",
      "colorama            mkl_fft             sndhdr              zipp\n",
      "colorcet            mkl_random          sniffio             zlib\n",
      "colorsys            mmap                snowballstemmer     zmq\n",
      "commctrl            mmapfile            socket              zoneinfo\n",
      "compileall          mmsystem            socketserver        zope\n",
      "comtypes            mock                socks               \n",
      "concurrent          modulefinder        sockshandler        \n",
      "conda               mpmath              sortedcollections   \n",
      "\n",
      "Enter any module name to get more help.  Or, type \"modules spam\" to search\n",
      "for modules whose name or summary contain the string \"spam\".\n",
      "\n"
     ]
    },
    {
     "name": "stderr",
     "output_type": "stream",
     "text": [
      "c:\\Users\\91960\\anaconda3\\lib\\site-packages\\Pythonwin\\pywin\\scintilla\\view.py:818: ResourceWarning:\n",
      "\n",
      "unclosed file <_io.TextIOWrapper name='c:\\\\Users\\\\91960\\\\anaconda3\\\\lib\\\\site-packages\\\\Pythonwin\\\\pywin\\\\default.cfg' mode='r' encoding='UTF-8'>\n",
      "\n"
     ]
    }
   ],
   "source": [
    "help('modules')"
   ]
  },
  {
   "cell_type": "code",
   "execution_count": null,
   "metadata": {},
   "outputs": [],
   "source": []
  }
 ],
 "metadata": {
  "kernelspec": {
   "display_name": "base",
   "language": "python",
   "name": "python3"
  },
  "language_info": {
   "codemirror_mode": {
    "name": "ipython",
    "version": 3
   },
   "file_extension": ".py",
   "mimetype": "text/x-python",
   "name": "python",
   "nbconvert_exporter": "python",
   "pygments_lexer": "ipython3",
   "version": "3.9.13"
  }
 },
 "nbformat": 4,
 "nbformat_minor": 2
}

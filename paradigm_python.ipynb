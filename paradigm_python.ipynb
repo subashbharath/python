{
 "cells": [
  {
   "cell_type": "markdown",
   "metadata": {},
   "source": [
    "# Programming Paradigm\n",
    "Paradigm can also be termed as a method to solve some problems or do some tasks. A programming paradigm is an approach to solve the problem using some programming language.\n",
    "\n",
    "Python supports three types of Programming paradigms\n",
    "\n",
    "- Object Oriented programming paradigms\n",
    "- Procedure Oriented programming paradigms\n",
    "- Functional programming paradigms"
   ]
  },
  {
   "cell_type": "markdown",
   "metadata": {},
   "source": [
    "### Object Oriented programming paradigms\n",
    "In the object-oriented programming paradigm, objects are the key element of paradigms. Objects can simply be defined as the instance of a class that contains both data members and the method functions.\n",
    "\n",
    "the code can be easily reusable,  Python supports encapsulation, inheritance, and polymorphism, which are key concepts in OOP.\n",
    "\n",
    "#### Advantages\n",
    "- Relation with Real world entities\n",
    "- Code reusability\n",
    "- Abstraction or data hiding\n",
    "#### Disadvantages\n",
    "- Data protection\n",
    "- Not suitable for all types of problems\n",
    "- Slow Speed"
   ]
  },
  {
   "cell_type": "code",
   "execution_count": 3,
   "metadata": {},
   "outputs": [
    {
     "name": "stdout",
     "output_type": "stream",
     "text": [
      "Hello, John. You are 43 old.\n",
      "Hello, Hilbert. You are 16 old.\n",
      "Hello, Alice. You are 30 old.\n"
     ]
    }
   ],
   "source": [
    "#example\n",
    "class Emp: \n",
    "    def __init__(self, name, age): \n",
    "        self.name = name \n",
    "        self.age = age \n",
    "      \n",
    "    def info(self): \n",
    "        print(\"Hello, % s. You are % s old.\" % (self.name, self.age)) \n",
    "  \n",
    "# Objects of class Emp has been  \n",
    "# made here         \n",
    "Emps = [Emp(\"John\", 43), \n",
    "    Emp(\"Hilbert\", 16), \n",
    "    Emp(\"Alice\", 30)] \n",
    "  \n",
    "# Objects of class Emp has been \n",
    "# used here \n",
    "for emp in Emps: \n",
    "    emp.info()"
   ]
  },
  {
   "cell_type": "markdown",
   "metadata": {},
   "source": [
    "### Procedural programming paradigms\n",
    "In Procedure Oriented programming paradigms, series of computational steps are divided modules which means that the code is grouped in functions and the code is serially executed step by step so basically, it combines the serial code to instruct a computer with each step to perform a certain task.\n",
    "\n",
    "#### Advantages\n",
    "- General-purpose programming\n",
    "- Code reusability\n",
    "- Portable source code\n",
    "#### Disadvantages\n",
    "- Data protection\n",
    "- Not suitable for real-world objects\n",
    "- Harder to write"
   ]
  },
  {
   "cell_type": "code",
   "execution_count": 4,
   "metadata": {},
   "outputs": [
    {
     "name": "stdout",
     "output_type": "stream",
     "text": [
      "100\n"
     ]
    }
   ],
   "source": [
    "#example \n",
    "# Procedural way of finding sum  \n",
    "# of a list  \n",
    "  \n",
    "mylist = [10, 20, 30, 40] \n",
    "  \n",
    "# modularization is done by  \n",
    "# functional approach \n",
    "def sum_the_list(mylist): \n",
    "    res = 0\n",
    "    for val in mylist: \n",
    "        res += val \n",
    "    return res \n",
    "  \n",
    "print(sum_the_list(mylist)) "
   ]
  },
  {
   "cell_type": "markdown",
   "metadata": {},
   "source": [
    "### Functional programming paradigms\n",
    "Functional programming paradigms is a paradigm in which everything is bind in pure mathematical functions style. It is known as declarative paradigms because it uses declarations overstatements. It uses the mathematical function and treats every statement as functional expression as an expression is executed to produce a value. Lambda functions or Recursion are basic approaches used for its implementation.\n",
    "\n",
    "#### Advantages\n",
    "- Simple to understand\n",
    "- Making debugging and testing easier\n",
    "- Enhances the comprehension and readability of the code\n",
    "#### Disadvantages\n",
    "- Low performance\n",
    "- Writing programs is a daunting task\n",
    "- Low readability of the code"
   ]
  },
  {
   "cell_type": "markdown",
   "metadata": {},
   "source": []
  }
 ],
 "metadata": {
  "kernelspec": {
   "display_name": "base",
   "language": "python",
   "name": "python3"
  },
  "language_info": {
   "codemirror_mode": {
    "name": "ipython",
    "version": 3
   },
   "file_extension": ".py",
   "mimetype": "text/x-python",
   "name": "python",
   "nbconvert_exporter": "python",
   "pygments_lexer": "ipython3",
   "version": "3.9.13"
  }
 },
 "nbformat": 4,
 "nbformat_minor": 2
}
